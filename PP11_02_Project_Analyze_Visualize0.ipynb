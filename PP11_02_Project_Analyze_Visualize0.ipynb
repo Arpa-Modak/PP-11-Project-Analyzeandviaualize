{
  "nbformat": 4,
  "nbformat_minor": 0,
  "metadata": {
    "colab": {
      "provenance": []
    },
    "kernelspec": {
      "name": "python3",
      "display_name": "Python 3"
    },
    "language_info": {
      "name": "python"
    }
  },
  "cells": [
    {
      "cell_type": "code",
      "execution_count": null,
      "metadata": {
        "id": "UEOclsb8171Y"
      },
      "outputs": [],
      "source": [
        "import pandas as pd\n",
        "import matplotlib.pyplot as plt"
      ]
    },
    {
      "cell_type": "code",
      "source": [
        "!wget https://raw.githubusercontent.com/Abdullahfoysal/pp11-Project-AnalyzeAndVisualize/refs/heads/main/student_data.csv"
      ],
      "metadata": {
        "colab": {
          "base_uri": "https://localhost:8080/"
        },
        "collapsed": true,
        "id": "FGjKKhRx3bl2",
        "outputId": "ec9a728f-5b47-41eb-88a7-ad92a7103f4f"
      },
      "execution_count": null,
      "outputs": [
        {
          "output_type": "stream",
          "name": "stdout",
          "text": [
            "--2024-12-13 18:54:16--  https://raw.githubusercontent.com/Abdullahfoysal/pp11-Project-AnalyzeAndVisualize/refs/heads/main/student_data.csv\n",
            "Resolving raw.githubusercontent.com (raw.githubusercontent.com)... 185.199.110.133, 185.199.109.133, 185.199.108.133, ...\n",
            "Connecting to raw.githubusercontent.com (raw.githubusercontent.com)|185.199.110.133|:443... connected.\n",
            "HTTP request sent, awaiting response... 200 OK\n",
            "Length: 133023 (130K) [text/plain]\n",
            "Saving to: ‘student_data.csv’\n",
            "\n",
            "student_data.csv    100%[===================>] 129.91K  --.-KB/s    in 0.02s   \n",
            "\n",
            "2024-12-13 18:54:17 (7.16 MB/s) - ‘student_data.csv’ saved [133023/133023]\n",
            "\n"
          ]
        }
      ]
    },
    {
      "cell_type": "code",
      "source": [
        "df = pd.read_csv(\"student_data.csv\")\n",
        "df.head()\n",
        "df.sample(5)"
      ],
      "metadata": {
        "colab": {
          "base_uri": "https://localhost:8080/",
          "height": 243
        },
        "id": "4qREpUZT3l8V",
        "outputId": "31a0c686-3d48-44af-aa67-50b2e9e6910e"
      },
      "execution_count": null,
      "outputs": [
        {
          "output_type": "execute_result",
          "data": {
            "text/plain": [
              "      id first_name last_name                     email  gender  \\\n",
              "211  212      Annis   Simnell  asimnell5v@blinklist.com  Female   \n",
              "79    80      Arlie   Cossell   acossell27@edublogs.org  Female   \n",
              "451  452  Alejandro     Clery     aclerycj@google.co.uk    Male   \n",
              "356  357   Northrop  Cansdale   ncansdale9w@alibaba.com    Male   \n",
              "172  173      Milli    Cheine     mcheine4s@spotify.com  Female   \n",
              "\n",
              "          ip_address  cgpa  passing_year        department  attendance  \\\n",
              "211  150.201.131.127  0.83        2001.0  Computer Science        5.40   \n",
              "79     191.46.92.251  0.17        2020.0              Arts       41.29   \n",
              "451   215.182.11.151  1.63        2022.0              Arts       46.66   \n",
              "356    55.131.241.90  3.01           NaN          Medicine       82.96   \n",
              "172     6.202.215.64  3.51        2001.0          Business       43.11   \n",
              "\n",
              "    home_district  abroad_study  student_id  graduation_date  \\\n",
              "211       Houston          True         212             2011   \n",
              "79        Chicago         False          80             2019   \n",
              "451      New York          True         452             2004   \n",
              "356      New York         False         357             2015   \n",
              "172   Los Angeles         False         173             2006   \n",
              "\n",
              "    study_abroad_country study_abroad_city  hsc_gpa  ssc_gpa  \n",
              "211            Indonesia    Lubuk Sikaping        4        5  \n",
              "79                 China            Guyang        2        2  \n",
              "451             Ethiopia         Kombolcha        5        2  \n",
              "356              Somalia        Buur Gaabo        2        4  \n",
              "172               Sweden             Växjö        4        3  "
            ],
            "text/html": [
              "\n",
              "  <div id=\"df-ff49e4be-53fd-441c-bd37-eb051cd761f2\" class=\"colab-df-container\">\n",
              "    <div>\n",
              "<style scoped>\n",
              "    .dataframe tbody tr th:only-of-type {\n",
              "        vertical-align: middle;\n",
              "    }\n",
              "\n",
              "    .dataframe tbody tr th {\n",
              "        vertical-align: top;\n",
              "    }\n",
              "\n",
              "    .dataframe thead th {\n",
              "        text-align: right;\n",
              "    }\n",
              "</style>\n",
              "<table border=\"1\" class=\"dataframe\">\n",
              "  <thead>\n",
              "    <tr style=\"text-align: right;\">\n",
              "      <th></th>\n",
              "      <th>id</th>\n",
              "      <th>first_name</th>\n",
              "      <th>last_name</th>\n",
              "      <th>email</th>\n",
              "      <th>gender</th>\n",
              "      <th>ip_address</th>\n",
              "      <th>cgpa</th>\n",
              "      <th>passing_year</th>\n",
              "      <th>department</th>\n",
              "      <th>attendance</th>\n",
              "      <th>home_district</th>\n",
              "      <th>abroad_study</th>\n",
              "      <th>student_id</th>\n",
              "      <th>graduation_date</th>\n",
              "      <th>study_abroad_country</th>\n",
              "      <th>study_abroad_city</th>\n",
              "      <th>hsc_gpa</th>\n",
              "      <th>ssc_gpa</th>\n",
              "    </tr>\n",
              "  </thead>\n",
              "  <tbody>\n",
              "    <tr>\n",
              "      <th>211</th>\n",
              "      <td>212</td>\n",
              "      <td>Annis</td>\n",
              "      <td>Simnell</td>\n",
              "      <td>asimnell5v@blinklist.com</td>\n",
              "      <td>Female</td>\n",
              "      <td>150.201.131.127</td>\n",
              "      <td>0.83</td>\n",
              "      <td>2001.0</td>\n",
              "      <td>Computer Science</td>\n",
              "      <td>5.40</td>\n",
              "      <td>Houston</td>\n",
              "      <td>True</td>\n",
              "      <td>212</td>\n",
              "      <td>2011</td>\n",
              "      <td>Indonesia</td>\n",
              "      <td>Lubuk Sikaping</td>\n",
              "      <td>4</td>\n",
              "      <td>5</td>\n",
              "    </tr>\n",
              "    <tr>\n",
              "      <th>79</th>\n",
              "      <td>80</td>\n",
              "      <td>Arlie</td>\n",
              "      <td>Cossell</td>\n",
              "      <td>acossell27@edublogs.org</td>\n",
              "      <td>Female</td>\n",
              "      <td>191.46.92.251</td>\n",
              "      <td>0.17</td>\n",
              "      <td>2020.0</td>\n",
              "      <td>Arts</td>\n",
              "      <td>41.29</td>\n",
              "      <td>Chicago</td>\n",
              "      <td>False</td>\n",
              "      <td>80</td>\n",
              "      <td>2019</td>\n",
              "      <td>China</td>\n",
              "      <td>Guyang</td>\n",
              "      <td>2</td>\n",
              "      <td>2</td>\n",
              "    </tr>\n",
              "    <tr>\n",
              "      <th>451</th>\n",
              "      <td>452</td>\n",
              "      <td>Alejandro</td>\n",
              "      <td>Clery</td>\n",
              "      <td>aclerycj@google.co.uk</td>\n",
              "      <td>Male</td>\n",
              "      <td>215.182.11.151</td>\n",
              "      <td>1.63</td>\n",
              "      <td>2022.0</td>\n",
              "      <td>Arts</td>\n",
              "      <td>46.66</td>\n",
              "      <td>New York</td>\n",
              "      <td>True</td>\n",
              "      <td>452</td>\n",
              "      <td>2004</td>\n",
              "      <td>Ethiopia</td>\n",
              "      <td>Kombolcha</td>\n",
              "      <td>5</td>\n",
              "      <td>2</td>\n",
              "    </tr>\n",
              "    <tr>\n",
              "      <th>356</th>\n",
              "      <td>357</td>\n",
              "      <td>Northrop</td>\n",
              "      <td>Cansdale</td>\n",
              "      <td>ncansdale9w@alibaba.com</td>\n",
              "      <td>Male</td>\n",
              "      <td>55.131.241.90</td>\n",
              "      <td>3.01</td>\n",
              "      <td>NaN</td>\n",
              "      <td>Medicine</td>\n",
              "      <td>82.96</td>\n",
              "      <td>New York</td>\n",
              "      <td>False</td>\n",
              "      <td>357</td>\n",
              "      <td>2015</td>\n",
              "      <td>Somalia</td>\n",
              "      <td>Buur Gaabo</td>\n",
              "      <td>2</td>\n",
              "      <td>4</td>\n",
              "    </tr>\n",
              "    <tr>\n",
              "      <th>172</th>\n",
              "      <td>173</td>\n",
              "      <td>Milli</td>\n",
              "      <td>Cheine</td>\n",
              "      <td>mcheine4s@spotify.com</td>\n",
              "      <td>Female</td>\n",
              "      <td>6.202.215.64</td>\n",
              "      <td>3.51</td>\n",
              "      <td>2001.0</td>\n",
              "      <td>Business</td>\n",
              "      <td>43.11</td>\n",
              "      <td>Los Angeles</td>\n",
              "      <td>False</td>\n",
              "      <td>173</td>\n",
              "      <td>2006</td>\n",
              "      <td>Sweden</td>\n",
              "      <td>Växjö</td>\n",
              "      <td>4</td>\n",
              "      <td>3</td>\n",
              "    </tr>\n",
              "  </tbody>\n",
              "</table>\n",
              "</div>\n",
              "    <div class=\"colab-df-buttons\">\n",
              "\n",
              "  <div class=\"colab-df-container\">\n",
              "    <button class=\"colab-df-convert\" onclick=\"convertToInteractive('df-ff49e4be-53fd-441c-bd37-eb051cd761f2')\"\n",
              "            title=\"Convert this dataframe to an interactive table.\"\n",
              "            style=\"display:none;\">\n",
              "\n",
              "  <svg xmlns=\"http://www.w3.org/2000/svg\" height=\"24px\" viewBox=\"0 -960 960 960\">\n",
              "    <path d=\"M120-120v-720h720v720H120Zm60-500h600v-160H180v160Zm220 220h160v-160H400v160Zm0 220h160v-160H400v160ZM180-400h160v-160H180v160Zm440 0h160v-160H620v160ZM180-180h160v-160H180v160Zm440 0h160v-160H620v160Z\"/>\n",
              "  </svg>\n",
              "    </button>\n",
              "\n",
              "  <style>\n",
              "    .colab-df-container {\n",
              "      display:flex;\n",
              "      gap: 12px;\n",
              "    }\n",
              "\n",
              "    .colab-df-convert {\n",
              "      background-color: #E8F0FE;\n",
              "      border: none;\n",
              "      border-radius: 50%;\n",
              "      cursor: pointer;\n",
              "      display: none;\n",
              "      fill: #1967D2;\n",
              "      height: 32px;\n",
              "      padding: 0 0 0 0;\n",
              "      width: 32px;\n",
              "    }\n",
              "\n",
              "    .colab-df-convert:hover {\n",
              "      background-color: #E2EBFA;\n",
              "      box-shadow: 0px 1px 2px rgba(60, 64, 67, 0.3), 0px 1px 3px 1px rgba(60, 64, 67, 0.15);\n",
              "      fill: #174EA6;\n",
              "    }\n",
              "\n",
              "    .colab-df-buttons div {\n",
              "      margin-bottom: 4px;\n",
              "    }\n",
              "\n",
              "    [theme=dark] .colab-df-convert {\n",
              "      background-color: #3B4455;\n",
              "      fill: #D2E3FC;\n",
              "    }\n",
              "\n",
              "    [theme=dark] .colab-df-convert:hover {\n",
              "      background-color: #434B5C;\n",
              "      box-shadow: 0px 1px 3px 1px rgba(0, 0, 0, 0.15);\n",
              "      filter: drop-shadow(0px 1px 2px rgba(0, 0, 0, 0.3));\n",
              "      fill: #FFFFFF;\n",
              "    }\n",
              "  </style>\n",
              "\n",
              "    <script>\n",
              "      const buttonEl =\n",
              "        document.querySelector('#df-ff49e4be-53fd-441c-bd37-eb051cd761f2 button.colab-df-convert');\n",
              "      buttonEl.style.display =\n",
              "        google.colab.kernel.accessAllowed ? 'block' : 'none';\n",
              "\n",
              "      async function convertToInteractive(key) {\n",
              "        const element = document.querySelector('#df-ff49e4be-53fd-441c-bd37-eb051cd761f2');\n",
              "        const dataTable =\n",
              "          await google.colab.kernel.invokeFunction('convertToInteractive',\n",
              "                                                    [key], {});\n",
              "        if (!dataTable) return;\n",
              "\n",
              "        const docLinkHtml = 'Like what you see? Visit the ' +\n",
              "          '<a target=\"_blank\" href=https://colab.research.google.com/notebooks/data_table.ipynb>data table notebook</a>'\n",
              "          + ' to learn more about interactive tables.';\n",
              "        element.innerHTML = '';\n",
              "        dataTable['output_type'] = 'display_data';\n",
              "        await google.colab.output.renderOutput(dataTable, element);\n",
              "        const docLink = document.createElement('div');\n",
              "        docLink.innerHTML = docLinkHtml;\n",
              "        element.appendChild(docLink);\n",
              "      }\n",
              "    </script>\n",
              "  </div>\n",
              "\n",
              "\n",
              "<div id=\"df-51674c8a-bd89-4f8a-9fd0-ee12b27c372b\">\n",
              "  <button class=\"colab-df-quickchart\" onclick=\"quickchart('df-51674c8a-bd89-4f8a-9fd0-ee12b27c372b')\"\n",
              "            title=\"Suggest charts\"\n",
              "            style=\"display:none;\">\n",
              "\n",
              "<svg xmlns=\"http://www.w3.org/2000/svg\" height=\"24px\"viewBox=\"0 0 24 24\"\n",
              "     width=\"24px\">\n",
              "    <g>\n",
              "        <path d=\"M19 3H5c-1.1 0-2 .9-2 2v14c0 1.1.9 2 2 2h14c1.1 0 2-.9 2-2V5c0-1.1-.9-2-2-2zM9 17H7v-7h2v7zm4 0h-2V7h2v10zm4 0h-2v-4h2v4z\"/>\n",
              "    </g>\n",
              "</svg>\n",
              "  </button>\n",
              "\n",
              "<style>\n",
              "  .colab-df-quickchart {\n",
              "      --bg-color: #E8F0FE;\n",
              "      --fill-color: #1967D2;\n",
              "      --hover-bg-color: #E2EBFA;\n",
              "      --hover-fill-color: #174EA6;\n",
              "      --disabled-fill-color: #AAA;\n",
              "      --disabled-bg-color: #DDD;\n",
              "  }\n",
              "\n",
              "  [theme=dark] .colab-df-quickchart {\n",
              "      --bg-color: #3B4455;\n",
              "      --fill-color: #D2E3FC;\n",
              "      --hover-bg-color: #434B5C;\n",
              "      --hover-fill-color: #FFFFFF;\n",
              "      --disabled-bg-color: #3B4455;\n",
              "      --disabled-fill-color: #666;\n",
              "  }\n",
              "\n",
              "  .colab-df-quickchart {\n",
              "    background-color: var(--bg-color);\n",
              "    border: none;\n",
              "    border-radius: 50%;\n",
              "    cursor: pointer;\n",
              "    display: none;\n",
              "    fill: var(--fill-color);\n",
              "    height: 32px;\n",
              "    padding: 0;\n",
              "    width: 32px;\n",
              "  }\n",
              "\n",
              "  .colab-df-quickchart:hover {\n",
              "    background-color: var(--hover-bg-color);\n",
              "    box-shadow: 0 1px 2px rgba(60, 64, 67, 0.3), 0 1px 3px 1px rgba(60, 64, 67, 0.15);\n",
              "    fill: var(--button-hover-fill-color);\n",
              "  }\n",
              "\n",
              "  .colab-df-quickchart-complete:disabled,\n",
              "  .colab-df-quickchart-complete:disabled:hover {\n",
              "    background-color: var(--disabled-bg-color);\n",
              "    fill: var(--disabled-fill-color);\n",
              "    box-shadow: none;\n",
              "  }\n",
              "\n",
              "  .colab-df-spinner {\n",
              "    border: 2px solid var(--fill-color);\n",
              "    border-color: transparent;\n",
              "    border-bottom-color: var(--fill-color);\n",
              "    animation:\n",
              "      spin 1s steps(1) infinite;\n",
              "  }\n",
              "\n",
              "  @keyframes spin {\n",
              "    0% {\n",
              "      border-color: transparent;\n",
              "      border-bottom-color: var(--fill-color);\n",
              "      border-left-color: var(--fill-color);\n",
              "    }\n",
              "    20% {\n",
              "      border-color: transparent;\n",
              "      border-left-color: var(--fill-color);\n",
              "      border-top-color: var(--fill-color);\n",
              "    }\n",
              "    30% {\n",
              "      border-color: transparent;\n",
              "      border-left-color: var(--fill-color);\n",
              "      border-top-color: var(--fill-color);\n",
              "      border-right-color: var(--fill-color);\n",
              "    }\n",
              "    40% {\n",
              "      border-color: transparent;\n",
              "      border-right-color: var(--fill-color);\n",
              "      border-top-color: var(--fill-color);\n",
              "    }\n",
              "    60% {\n",
              "      border-color: transparent;\n",
              "      border-right-color: var(--fill-color);\n",
              "    }\n",
              "    80% {\n",
              "      border-color: transparent;\n",
              "      border-right-color: var(--fill-color);\n",
              "      border-bottom-color: var(--fill-color);\n",
              "    }\n",
              "    90% {\n",
              "      border-color: transparent;\n",
              "      border-bottom-color: var(--fill-color);\n",
              "    }\n",
              "  }\n",
              "</style>\n",
              "\n",
              "  <script>\n",
              "    async function quickchart(key) {\n",
              "      const quickchartButtonEl =\n",
              "        document.querySelector('#' + key + ' button');\n",
              "      quickchartButtonEl.disabled = true;  // To prevent multiple clicks.\n",
              "      quickchartButtonEl.classList.add('colab-df-spinner');\n",
              "      try {\n",
              "        const charts = await google.colab.kernel.invokeFunction(\n",
              "            'suggestCharts', [key], {});\n",
              "      } catch (error) {\n",
              "        console.error('Error during call to suggestCharts:', error);\n",
              "      }\n",
              "      quickchartButtonEl.classList.remove('colab-df-spinner');\n",
              "      quickchartButtonEl.classList.add('colab-df-quickchart-complete');\n",
              "    }\n",
              "    (() => {\n",
              "      let quickchartButtonEl =\n",
              "        document.querySelector('#df-51674c8a-bd89-4f8a-9fd0-ee12b27c372b button');\n",
              "      quickchartButtonEl.style.display =\n",
              "        google.colab.kernel.accessAllowed ? 'block' : 'none';\n",
              "    })();\n",
              "  </script>\n",
              "</div>\n",
              "\n",
              "    </div>\n",
              "  </div>\n"
            ],
            "application/vnd.google.colaboratory.intrinsic+json": {
              "type": "dataframe",
              "summary": "{\n  \"name\": \"df\",\n  \"rows\": 5,\n  \"fields\": [\n    {\n      \"column\": \"id\",\n      \"properties\": {\n        \"dtype\": \"number\",\n        \"std\": 148,\n        \"min\": 80,\n        \"max\": 452,\n        \"num_unique_values\": 5,\n        \"samples\": [\n          80,\n          173,\n          452\n        ],\n        \"semantic_type\": \"\",\n        \"description\": \"\"\n      }\n    },\n    {\n      \"column\": \"first_name\",\n      \"properties\": {\n        \"dtype\": \"string\",\n        \"num_unique_values\": 5,\n        \"samples\": [\n          \"Arlie\",\n          \"Milli\",\n          \"Alejandro\"\n        ],\n        \"semantic_type\": \"\",\n        \"description\": \"\"\n      }\n    },\n    {\n      \"column\": \"last_name\",\n      \"properties\": {\n        \"dtype\": \"string\",\n        \"num_unique_values\": 5,\n        \"samples\": [\n          \"Cossell\",\n          \"Cheine\",\n          \"Clery\"\n        ],\n        \"semantic_type\": \"\",\n        \"description\": \"\"\n      }\n    },\n    {\n      \"column\": \"email\",\n      \"properties\": {\n        \"dtype\": \"string\",\n        \"num_unique_values\": 5,\n        \"samples\": [\n          \"acossell27@edublogs.org\",\n          \"mcheine4s@spotify.com\",\n          \"aclerycj@google.co.uk\"\n        ],\n        \"semantic_type\": \"\",\n        \"description\": \"\"\n      }\n    },\n    {\n      \"column\": \"gender\",\n      \"properties\": {\n        \"dtype\": \"category\",\n        \"num_unique_values\": 2,\n        \"samples\": [\n          \"Male\",\n          \"Female\"\n        ],\n        \"semantic_type\": \"\",\n        \"description\": \"\"\n      }\n    },\n    {\n      \"column\": \"ip_address\",\n      \"properties\": {\n        \"dtype\": \"string\",\n        \"num_unique_values\": 5,\n        \"samples\": [\n          \"191.46.92.251\",\n          \"6.202.215.64\"\n        ],\n        \"semantic_type\": \"\",\n        \"description\": \"\"\n      }\n    },\n    {\n      \"column\": \"cgpa\",\n      \"properties\": {\n        \"dtype\": \"number\",\n        \"std\": 1.415132502630054,\n        \"min\": 0.17,\n        \"max\": 3.51,\n        \"num_unique_values\": 5,\n        \"samples\": [\n          0.17,\n          3.51\n        ],\n        \"semantic_type\": \"\",\n        \"description\": \"\"\n      }\n    },\n    {\n      \"column\": \"passing_year\",\n      \"properties\": {\n        \"dtype\": \"number\",\n        \"std\": 11.575836902790225,\n        \"min\": 2001.0,\n        \"max\": 2022.0,\n        \"num_unique_values\": 3,\n        \"samples\": [\n          2001.0,\n          2020.0\n        ],\n        \"semantic_type\": \"\",\n        \"description\": \"\"\n      }\n    },\n    {\n      \"column\": \"department\",\n      \"properties\": {\n        \"dtype\": \"string\",\n        \"num_unique_values\": 4,\n        \"samples\": [\n          \"Arts\",\n          \"Business\"\n        ],\n        \"semantic_type\": \"\",\n        \"description\": \"\"\n      }\n    },\n    {\n      \"column\": \"attendance\",\n      \"properties\": {\n        \"dtype\": \"number\",\n        \"std\": 27.49084447593416,\n        \"min\": 5.4,\n        \"max\": 82.96,\n        \"num_unique_values\": 5,\n        \"samples\": [\n          41.29,\n          43.11\n        ],\n        \"semantic_type\": \"\",\n        \"description\": \"\"\n      }\n    },\n    {\n      \"column\": \"home_district\",\n      \"properties\": {\n        \"dtype\": \"string\",\n        \"num_unique_values\": 4,\n        \"samples\": [\n          \"Chicago\",\n          \"Los Angeles\"\n        ],\n        \"semantic_type\": \"\",\n        \"description\": \"\"\n      }\n    },\n    {\n      \"column\": \"abroad_study\",\n      \"properties\": {\n        \"dtype\": \"boolean\",\n        \"num_unique_values\": 2,\n        \"samples\": [\n          false,\n          true\n        ],\n        \"semantic_type\": \"\",\n        \"description\": \"\"\n      }\n    },\n    {\n      \"column\": \"student_id\",\n      \"properties\": {\n        \"dtype\": \"number\",\n        \"std\": 148,\n        \"min\": 80,\n        \"max\": 452,\n        \"num_unique_values\": 5,\n        \"samples\": [\n          80,\n          173\n        ],\n        \"semantic_type\": \"\",\n        \"description\": \"\"\n      }\n    },\n    {\n      \"column\": \"graduation_date\",\n      \"properties\": {\n        \"dtype\": \"number\",\n        \"std\": 6,\n        \"min\": 2004,\n        \"max\": 2019,\n        \"num_unique_values\": 5,\n        \"samples\": [\n          2019,\n          2006\n        ],\n        \"semantic_type\": \"\",\n        \"description\": \"\"\n      }\n    },\n    {\n      \"column\": \"study_abroad_country\",\n      \"properties\": {\n        \"dtype\": \"string\",\n        \"num_unique_values\": 5,\n        \"samples\": [\n          \"China\",\n          \"Sweden\"\n        ],\n        \"semantic_type\": \"\",\n        \"description\": \"\"\n      }\n    },\n    {\n      \"column\": \"study_abroad_city\",\n      \"properties\": {\n        \"dtype\": \"string\",\n        \"num_unique_values\": 5,\n        \"samples\": [\n          \"Guyang\",\n          \"V\\u00e4xj\\u00f6\"\n        ],\n        \"semantic_type\": \"\",\n        \"description\": \"\"\n      }\n    },\n    {\n      \"column\": \"hsc_gpa\",\n      \"properties\": {\n        \"dtype\": \"number\",\n        \"std\": 1,\n        \"min\": 2,\n        \"max\": 5,\n        \"num_unique_values\": 3,\n        \"samples\": [\n          4,\n          2\n        ],\n        \"semantic_type\": \"\",\n        \"description\": \"\"\n      }\n    },\n    {\n      \"column\": \"ssc_gpa\",\n      \"properties\": {\n        \"dtype\": \"number\",\n        \"std\": 1,\n        \"min\": 2,\n        \"max\": 5,\n        \"num_unique_values\": 4,\n        \"samples\": [\n          2,\n          3\n        ],\n        \"semantic_type\": \"\",\n        \"description\": \"\"\n      }\n    }\n  ]\n}"
            }
          },
          "metadata": {},
          "execution_count": 3
        }
      ]
    },
    {
      "cell_type": "markdown",
      "source": [
        "**Question 1**: Count the number of male and female student."
      ],
      "metadata": {
        "id": "a1D0sOGmLpxG"
      }
    },
    {
      "cell_type": "code",
      "source": [
        "import pandas as pd\n",
        "import matplotlib.pyplot as plt\n",
        "\n",
        "df_male = df[df[\"gender\"] == \"Male\"]\n",
        "df_female = df[df[\"gender\"] == \"Female\"]\n",
        "#rint(df_male.value_counts())\n",
        "malecount = df_male.value_counts()\n",
        "femalecount = df_female.value_counts()\n",
        "print(f\"Total number of male students: \",len(malecount))\n",
        "print(f\"Total number of female students: \", len(femalecount))"
      ],
      "metadata": {
        "id": "FC_DHrV_4LoN",
        "colab": {
          "base_uri": "https://localhost:8080/"
        },
        "outputId": "22e16715-8a5e-4b29-a11d-b25553e1c705"
      },
      "execution_count": null,
      "outputs": [
        {
          "output_type": "stream",
          "name": "stdout",
          "text": [
            "Total number of male students:  384\n",
            "Total number of female students:  339\n"
          ]
        }
      ]
    },
    {
      "cell_type": "markdown",
      "source": [
        "**Question 2**: Display all students with an HSC CGPA grater than 4."
      ],
      "metadata": {
        "id": "c8_6vvp5M4CI"
      }
    },
    {
      "cell_type": "code",
      "source": [
        "df = pd.read_csv(\"student_data.csv\")\n",
        "gpa = df[(df[\"hsc_gpa\"]> 4)]\n",
        "print(gpa.sample(1))"
      ],
      "metadata": {
        "colab": {
          "base_uri": "https://localhost:8080/"
        },
        "id": "kEAkM4UMKI8P",
        "outputId": "2c8dfaa8-b8dd-4b6d-aa7e-34ccbf54b668"
      },
      "execution_count": null,
      "outputs": [
        {
          "output_type": "stream",
          "name": "stdout",
          "text": [
            "      id first_name last_name                          email  gender  \\\n",
            "605  606     Wileen     Drain  wdraingt@pagesperso-orange.fr  Female   \n",
            "\n",
            "         ip_address  cgpa  passing_year        department  attendance  \\\n",
            "605  35.238.230.152  3.89           NaN  Computer Science        9.39   \n",
            "\n",
            "    home_district  abroad_study  student_id  graduation_date  \\\n",
            "605   Los Angeles         False         606             2010   \n",
            "\n",
            "    study_abroad_country study_abroad_city  hsc_gpa  ssc_gpa  \n",
            "605               Latvia            Tukums        5        4  \n"
          ]
        }
      ]
    },
    {
      "cell_type": "markdown",
      "source": [
        " **Queation 3**: Calculate the median CGPA of students."
      ],
      "metadata": {
        "id": "qKEZPG99ORY1"
      }
    },
    {
      "cell_type": "code",
      "source": [
        "cgpa_median = df[\"cgpa\"].median()\n",
        "\n",
        "print(\"Median CGPA: \",cgpa_median)"
      ],
      "metadata": {
        "colab": {
          "base_uri": "https://localhost:8080/"
        },
        "id": "4owlmaC-Mjwe",
        "outputId": "bc647621-0867-418d-9745-848069deb95b"
      },
      "execution_count": null,
      "outputs": [
        {
          "output_type": "stream",
          "name": "stdout",
          "text": [
            "Median CGPA:  1.96\n"
          ]
        }
      ]
    },
    {
      "cell_type": "markdown",
      "source": [
        "**Question 4**: Filter students who are studying abroad and have a passing year of 2022."
      ],
      "metadata": {
        "id": "0Z_iy539Qxvk"
      }
    },
    {
      "cell_type": "code",
      "source": [
        "studying_abroad = df[(df[\"abroad_study\"] == True) & (df[\"passing_year\"] == 2022)]\n",
        "print(f\"students who are studying abroad and have a passing year of 2022: \", studying_abroad.sample(5))"
      ],
      "metadata": {
        "colab": {
          "base_uri": "https://localhost:8080/"
        },
        "id": "18XhSvHrP39N",
        "outputId": "23a213c5-3553-4ae9-ed5f-36da0b82bd80"
      },
      "execution_count": null,
      "outputs": [
        {
          "output_type": "stream",
          "name": "stdout",
          "text": [
            "students who are studying abroad and have a passing year of 2022:        id first_name   last_name                      email  gender  \\\n",
            "451  452  Alejandro       Clery      aclerycj@google.co.uk    Male   \n",
            "495  496      Clare   Cuschieri       ccuschieridr@mapy.cz    Male   \n",
            "161  162     Agathe      Estcot  aestcot4h@istockphoto.com  Female   \n",
            "928  929    Arnoldo    Halgarth  ahalgarthps@bigcartel.com    Male   \n",
            "541  542   Harcourt  Syalvester      hsyalvesterf1@pbs.org    Male   \n",
            "\n",
            "          ip_address  cgpa  passing_year        department  attendance  \\\n",
            "451   215.182.11.151  1.63        2022.0              Arts       46.66   \n",
            "495     157.85.1.210  2.08        2022.0  Computer Science       64.75   \n",
            "161  238.198.145.102  1.86        2022.0       Engineering       96.77   \n",
            "928    95.150.55.158  1.16        2022.0              Arts       56.13   \n",
            "541   139.248.173.96  3.06        2022.0          Business       99.40   \n",
            "\n",
            "    home_district  abroad_study  student_id  graduation_date  \\\n",
            "451      New York          True         452             2004   \n",
            "495      New York          True         496             2009   \n",
            "161       Houston          True         162             2000   \n",
            "928         Miami          True         929             2020   \n",
            "541   Los Angeles          True         542             2014   \n",
            "\n",
            "    study_abroad_country study_abroad_city  hsc_gpa  ssc_gpa  \n",
            "451             Ethiopia         Kombolcha        5        2  \n",
            "495               Russia      Pervomayskiy        1        2  \n",
            "161                China          Si’erbao        3        2  \n",
            "928               Sweden         Oxelösund        1        4  \n",
            "541               Russia    Nikolayevskaya        1        2  \n"
          ]
        }
      ]
    },
    {
      "cell_type": "markdown",
      "source": [
        "**Question 5**: Plot a histogram of CGPA distribution"
      ],
      "metadata": {
        "id": "3W6YfjWZTZHD"
      }
    },
    {
      "cell_type": "code",
      "source": [
        "plt.hist(df[\"cgpa\"],bins = 10,color = \"skyblue\",edgecolor = \"black\")\n",
        "plt.title(\"CGPA Histogram\")\n",
        "plt.xlabel(\"CGPA\")\n",
        "plt.ylabel(\"Data Bins\")\n",
        "plt.show()"
      ],
      "metadata": {
        "id": "0t4lR2GyTjIb",
        "colab": {
          "base_uri": "https://localhost:8080/",
          "height": 472
        },
        "outputId": "e43ad0bd-919e-4a0d-bcb6-c1a70209fb43"
      },
      "execution_count": null,
      "outputs": [
        {
          "output_type": "display_data",
          "data": {
            "text/plain": [
              "<Figure size 640x480 with 1 Axes>"
            ],
            "image/png": "[encoded data removed]"
          },
          "metadata": {}
        }
      ]
    },
    {
      "cell_type": "code",
      "source": [],
      "metadata": {
        "id": "yv8bSanrZNST"
      },
      "execution_count": null,
      "outputs": []
    }
  ]
}