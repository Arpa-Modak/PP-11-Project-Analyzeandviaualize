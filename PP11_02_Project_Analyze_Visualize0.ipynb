{
  "nbformat": 4,
  "nbformat_minor": 0,
  "metadata": {
    "colab": {
      "provenance": []
    },
    "kernelspec": {
      "name": "python3",
      "display_name": "Python 3"
    },
    "language_info": {
      "name": "python"
    }
  },
  "cells": [
    {
      "cell_type": "code",
      "execution_count": 1,
      "metadata": {
        "id": "UEOclsb8171Y"
      },
      "outputs": [],
      "source": [
        "import pandas as pd\n",
        "import matplotlib.pyplot as plt"
      ]
    },
    {
      "cell_type": "code",
      "source": [
        "!wget https://raw.githubusercontent.com/Abdullahfoysal/pp11-Project-AnalyzeAndVisualize/refs/heads/main/student_data.csv"
      ],
      "metadata": {
        "colab": {
          "base_uri": "https://localhost:8080/"
        },
        "collapsed": true,
        "id": "FGjKKhRx3bl2",
        "outputId": "4ea3a3a6-6436-4d0b-d431-f9c024aa421f"
      },
      "execution_count": 5,
      "outputs": [
        {
          "output_type": "stream",
          "name": "stdout",
          "text": [
            "--2024-12-13 08:19:21--  https://raw.githubusercontent.com/Abdullahfoysal/pp11-Project-AnalyzeAndVisualize/refs/heads/main/student_data.csv\n",
            "Resolving raw.githubusercontent.com (raw.githubusercontent.com)... 185.199.108.133, 185.199.109.133, 185.199.110.133, ...\n",
            "Connecting to raw.githubusercontent.com (raw.githubusercontent.com)|185.199.108.133|:443... connected.\n",
            "HTTP request sent, awaiting response... 200 OK\n",
            "Length: 133023 (130K) [text/plain]\n",
            "Saving to: ‘student_data.csv.1’\n",
            "\n",
            "\rstudent_data.csv.1    0%[                    ]       0  --.-KB/s               \rstudent_data.csv.1  100%[===================>] 129.91K  --.-KB/s    in 0.03s   \n",
            "\n",
            "2024-12-13 08:19:21 (4.94 MB/s) - ‘student_data.csv.1’ saved [133023/133023]\n",
            "\n"
          ]
        }
      ]
    },
    {
      "cell_type": "code",
      "source": [
        "df = pd.read_csv(\"student_data.csv\")\n",
        "df.head()\n",
        "df.sample(5)"
      ],
      "metadata": {
        "colab": {
          "base_uri": "https://localhost:8080/",
          "height": 244
        },
        "id": "4qREpUZT3l8V",
        "outputId": "65775eb2-f491-4b8f-c728-4c6b967330f4"
      },
      "execution_count": 7,
      "outputs": [
        {
          "output_type": "execute_result",
          "data": {
            "text/plain": [
              "      id first_name     last_name                         email      gender  \\\n",
              "947  948      Sonni       Lanigan  slaniganqb@sciencedirect.com  Non-binary   \n",
              "348  349   Samantha     Rowbotham        srowbotham9o@umich.edu      Female   \n",
              "837  838   Brigitte  Westmoreland  bwestmorelandn9@gravatar.com  Polygender   \n",
              "486  487   Philippa        Lockie     plockiedi@dailymail.co.uk      Female   \n",
              "173  174     Sloane    Desquesnes     sdesquesnes4t@dedecms.com        Male   \n",
              "\n",
              "        ip_address  cgpa  passing_year        department  attendance  \\\n",
              "947     56.56.37.0  2.02        2012.0       Engineering       33.99   \n",
              "348   54.71.88.145  3.39        2018.0              Arts       55.14   \n",
              "837  121.16.145.31   NaN        2014.0          Medicine       50.06   \n",
              "486   108.75.39.21  2.83        2025.0  Computer Science       94.84   \n",
              "173  0.146.148.140  3.17        2019.0          Business       14.74   \n",
              "\n",
              "    home_district  abroad_study  student_id  graduation_date  \\\n",
              "947   Los Angeles         False         948             2010   \n",
              "348       Houston         False         349             2014   \n",
              "837      New York          True         838             2015   \n",
              "486       Houston          True         487             2015   \n",
              "173       Houston          True         174             2018   \n",
              "\n",
              "    study_abroad_country study_abroad_city  hsc_gpa  ssc_gpa  \n",
              "947           Madagascar         Ambovombe        1        1  \n",
              "348               Brazil           Iturama        1        3  \n",
              "837                China            Alakak        2        1  \n",
              "486        United States            Newark        4        2  \n",
              "173               Poland            Olesno        3        4  "
            ],
            "text/html": [
              "\n",
              "  <div id=\"df-1b93081c-304e-4ede-8ac7-40cff0fb304b\" class=\"colab-df-container\">\n",
              "    <div>\n",
              "<style scoped>\n",
              "    .dataframe tbody tr th:only-of-type {\n",
              "        vertical-align: middle;\n",
              "    }\n",
              "\n",
              "    .dataframe tbody tr th {\n",
              "        vertical-align: top;\n",
              "    }\n",
              "\n",
              "    .dataframe thead th {\n",
              "        text-align: right;\n",
              "    }\n",
              "</style>\n",
              "<table border=\"1\" class=\"dataframe\">\n",
              "  <thead>\n",
              "    <tr style=\"text-align: right;\">\n",
              "      <th></th>\n",
              "      <th>id</th>\n",
              "      <th>first_name</th>\n",
              "      <th>last_name</th>\n",
              "      <th>email</th>\n",
              "      <th>gender</th>\n",
              "      <th>ip_address</th>\n",
              "      <th>cgpa</th>\n",
              "      <th>passing_year</th>\n",
              "      <th>department</th>\n",
              "      <th>attendance</th>\n",
              "      <th>home_district</th>\n",
              "      <th>abroad_study</th>\n",
              "      <th>student_id</th>\n",
              "      <th>graduation_date</th>\n",
              "      <th>study_abroad_country</th>\n",
              "      <th>study_abroad_city</th>\n",
              "      <th>hsc_gpa</th>\n",
              "      <th>ssc_gpa</th>\n",
              "    </tr>\n",
              "  </thead>\n",
              "  <tbody>\n",
              "    <tr>\n",
              "      <th>947</th>\n",
              "      <td>948</td>\n",
              "      <td>Sonni</td>\n",
              "      <td>Lanigan</td>\n",
              "      <td>slaniganqb@sciencedirect.com</td>\n",
              "      <td>Non-binary</td>\n",
              "      <td>56.56.37.0</td>\n",
              "      <td>2.02</td>\n",
              "      <td>2012.0</td>\n",
              "      <td>Engineering</td>\n",
              "      <td>33.99</td>\n",
              "      <td>Los Angeles</td>\n",
              "      <td>False</td>\n",
              "      <td>948</td>\n",
              "      <td>2010</td>\n",
              "      <td>Madagascar</td>\n",
              "      <td>Ambovombe</td>\n",
              "      <td>1</td>\n",
              "      <td>1</td>\n",
              "    </tr>\n",
              "    <tr>\n",
              "      <th>348</th>\n",
              "      <td>349</td>\n",
              "      <td>Samantha</td>\n",
              "      <td>Rowbotham</td>\n",
              "      <td>srowbotham9o@umich.edu</td>\n",
              "      <td>Female</td>\n",
              "      <td>54.71.88.145</td>\n",
              "      <td>3.39</td>\n",
              "      <td>2018.0</td>\n",
              "      <td>Arts</td>\n",
              "      <td>55.14</td>\n",
              "      <td>Houston</td>\n",
              "      <td>False</td>\n",
              "      <td>349</td>\n",
              "      <td>2014</td>\n",
              "      <td>Brazil</td>\n",
              "      <td>Iturama</td>\n",
              "      <td>1</td>\n",
              "      <td>3</td>\n",
              "    </tr>\n",
              "    <tr>\n",
              "      <th>837</th>\n",
              "      <td>838</td>\n",
              "      <td>Brigitte</td>\n",
              "      <td>Westmoreland</td>\n",
              "      <td>bwestmorelandn9@gravatar.com</td>\n",
              "      <td>Polygender</td>\n",
              "      <td>121.16.145.31</td>\n",
              "      <td>NaN</td>\n",
              "      <td>2014.0</td>\n",
              "      <td>Medicine</td>\n",
              "      <td>50.06</td>\n",
              "      <td>New York</td>\n",
              "      <td>True</td>\n",
              "      <td>838</td>\n",
              "      <td>2015</td>\n",
              "      <td>China</td>\n",
              "      <td>Alakak</td>\n",
              "      <td>2</td>\n",
              "      <td>1</td>\n",
              "    </tr>\n",
              "    <tr>\n",
              "      <th>486</th>\n",
              "      <td>487</td>\n",
              "      <td>Philippa</td>\n",
              "      <td>Lockie</td>\n",
              "      <td>plockiedi@dailymail.co.uk</td>\n",
              "      <td>Female</td>\n",
              "      <td>108.75.39.21</td>\n",
              "      <td>2.83</td>\n",
              "      <td>2025.0</td>\n",
              "      <td>Computer Science</td>\n",
              "      <td>94.84</td>\n",
              "      <td>Houston</td>\n",
              "      <td>True</td>\n",
              "      <td>487</td>\n",
              "      <td>2015</td>\n",
              "      <td>United States</td>\n",
              "      <td>Newark</td>\n",
              "      <td>4</td>\n",
              "      <td>2</td>\n",
              "    </tr>\n",
              "    <tr>\n",
              "      <th>173</th>\n",
              "      <td>174</td>\n",
              "      <td>Sloane</td>\n",
              "      <td>Desquesnes</td>\n",
              "      <td>sdesquesnes4t@dedecms.com</td>\n",
              "      <td>Male</td>\n",
              "      <td>0.146.148.140</td>\n",
              "      <td>3.17</td>\n",
              "      <td>2019.0</td>\n",
              "      <td>Business</td>\n",
              "      <td>14.74</td>\n",
              "      <td>Houston</td>\n",
              "      <td>True</td>\n",
              "      <td>174</td>\n",
              "      <td>2018</td>\n",
              "      <td>Poland</td>\n",
              "      <td>Olesno</td>\n",
              "      <td>3</td>\n",
              "      <td>4</td>\n",
              "    </tr>\n",
              "  </tbody>\n",
              "</table>\n",
              "</div>\n",
              "    <div class=\"colab-df-buttons\">\n",
              "\n",
              "  <div class=\"colab-df-container\">\n",
              "    <button class=\"colab-df-convert\" onclick=\"convertToInteractive('df-1b93081c-304e-4ede-8ac7-40cff0fb304b')\"\n",
              "            title=\"Convert this dataframe to an interactive table.\"\n",
              "            style=\"display:none;\">\n",
              "\n",
              "  <svg xmlns=\"http://www.w3.org/2000/svg\" height=\"24px\" viewBox=\"0 -960 960 960\">\n",
              "    <path d=\"M120-120v-720h720v720H120Zm60-500h600v-160H180v160Zm220 220h160v-160H400v160Zm0 220h160v-160H400v160ZM180-400h160v-160H180v160Zm440 0h160v-160H620v160ZM180-180h160v-160H180v160Zm440 0h160v-160H620v160Z\"/>\n",
              "  </svg>\n",
              "    </button>\n",
              "\n",
              "  <style>\n",
              "    .colab-df-container {\n",
              "      display:flex;\n",
              "      gap: 12px;\n",
              "    }\n",
              "\n",
              "    .colab-df-convert {\n",
              "      background-color: #E8F0FE;\n",
              "      border: none;\n",
              "      border-radius: 50%;\n",
              "      cursor: pointer;\n",
              "      display: none;\n",
              "      fill: #1967D2;\n",
              "      height: 32px;\n",
              "      padding: 0 0 0 0;\n",
              "      width: 32px;\n",
              "    }\n",
              "\n",
              "    .colab-df-convert:hover {\n",
              "      background-color: #E2EBFA;\n",
              "      box-shadow: 0px 1px 2px rgba(60, 64, 67, 0.3), 0px 1px 3px 1px rgba(60, 64, 67, 0.15);\n",
              "      fill: #174EA6;\n",
              "    }\n",
              "\n",
              "    .colab-df-buttons div {\n",
              "      margin-bottom: 4px;\n",
              "    }\n",
              "\n",
              "    [theme=dark] .colab-df-convert {\n",
              "      background-color: #3B4455;\n",
              "      fill: #D2E3FC;\n",
              "    }\n",
              "\n",
              "    [theme=dark] .colab-df-convert:hover {\n",
              "      background-color: #434B5C;\n",
              "      box-shadow: 0px 1px 3px 1px rgba(0, 0, 0, 0.15);\n",
              "      filter: drop-shadow(0px 1px 2px rgba(0, 0, 0, 0.3));\n",
              "      fill: #FFFFFF;\n",
              "    }\n",
              "  </style>\n",
              "\n",
              "    <script>\n",
              "      const buttonEl =\n",
              "        document.querySelector('#df-1b93081c-304e-4ede-8ac7-40cff0fb304b button.colab-df-convert');\n",
              "      buttonEl.style.display =\n",
              "        google.colab.kernel.accessAllowed ? 'block' : 'none';\n",
              "\n",
              "      async function convertToInteractive(key) {\n",
              "        const element = document.querySelector('#df-1b93081c-304e-4ede-8ac7-40cff0fb304b');\n",
              "        const dataTable =\n",
              "          await google.colab.kernel.invokeFunction('convertToInteractive',\n",
              "                                                    [key], {});\n",
              "        if (!dataTable) return;\n",
              "\n",
              "        const docLinkHtml = 'Like what you see? Visit the ' +\n",
              "          '<a target=\"_blank\" href=https://colab.research.google.com/notebooks/data_table.ipynb>data table notebook</a>'\n",
              "          + ' to learn more about interactive tables.';\n",
              "        element.innerHTML = '';\n",
              "        dataTable['output_type'] = 'display_data';\n",
              "        await google.colab.output.renderOutput(dataTable, element);\n",
              "        const docLink = document.createElement('div');\n",
              "        docLink.innerHTML = docLinkHtml;\n",
              "        element.appendChild(docLink);\n",
              "      }\n",
              "    </script>\n",
              "  </div>\n",
              "\n",
              "\n",
              "<div id=\"df-2e8a691d-5814-4186-a0c1-50bb5e53770f\">\n",
              "  <button class=\"colab-df-quickchart\" onclick=\"quickchart('df-2e8a691d-5814-4186-a0c1-50bb5e53770f')\"\n",
              "            title=\"Suggest charts\"\n",
              "            style=\"display:none;\">\n",
              "\n",
              "<svg xmlns=\"http://www.w3.org/2000/svg\" height=\"24px\"viewBox=\"0 0 24 24\"\n",
              "     width=\"24px\">\n",
              "    <g>\n",
              "        <path d=\"M19 3H5c-1.1 0-2 .9-2 2v14c0 1.1.9 2 2 2h14c1.1 0 2-.9 2-2V5c0-1.1-.9-2-2-2zM9 17H7v-7h2v7zm4 0h-2V7h2v10zm4 0h-2v-4h2v4z\"/>\n",
              "    </g>\n",
              "</svg>\n",
              "  </button>\n",
              "\n",
              "<style>\n",
              "  .colab-df-quickchart {\n",
              "      --bg-color: #E8F0FE;\n",
              "      --fill-color: #1967D2;\n",
              "      --hover-bg-color: #E2EBFA;\n",
              "      --hover-fill-color: #174EA6;\n",
              "      --disabled-fill-color: #AAA;\n",
              "      --disabled-bg-color: #DDD;\n",
              "  }\n",
              "\n",
              "  [theme=dark] .colab-df-quickchart {\n",
              "      --bg-color: #3B4455;\n",
              "      --fill-color: #D2E3FC;\n",
              "      --hover-bg-color: #434B5C;\n",
              "      --hover-fill-color: #FFFFFF;\n",
              "      --disabled-bg-color: #3B4455;\n",
              "      --disabled-fill-color: #666;\n",
              "  }\n",
              "\n",
              "  .colab-df-quickchart {\n",
              "    background-color: var(--bg-color);\n",
              "    border: none;\n",
              "    border-radius: 50%;\n",
              "    cursor: pointer;\n",
              "    display: none;\n",
              "    fill: var(--fill-color);\n",
              "    height: 32px;\n",
              "    padding: 0;\n",
              "    width: 32px;\n",
              "  }\n",
              "\n",
              "  .colab-df-quickchart:hover {\n",
              "    background-color: var(--hover-bg-color);\n",
              "    box-shadow: 0 1px 2px rgba(60, 64, 67, 0.3), 0 1px 3px 1px rgba(60, 64, 67, 0.15);\n",
              "    fill: var(--button-hover-fill-color);\n",
              "  }\n",
              "\n",
              "  .colab-df-quickchart-complete:disabled,\n",
              "  .colab-df-quickchart-complete:disabled:hover {\n",
              "    background-color: var(--disabled-bg-color);\n",
              "    fill: var(--disabled-fill-color);\n",
              "    box-shadow: none;\n",
              "  }\n",
              "\n",
              "  .colab-df-spinner {\n",
              "    border: 2px solid var(--fill-color);\n",
              "    border-color: transparent;\n",
              "    border-bottom-color: var(--fill-color);\n",
              "    animation:\n",
              "      spin 1s steps(1) infinite;\n",
              "  }\n",
              "\n",
              "  @keyframes spin {\n",
              "    0% {\n",
              "      border-color: transparent;\n",
              "      border-bottom-color: var(--fill-color);\n",
              "      border-left-color: var(--fill-color);\n",
              "    }\n",
              "    20% {\n",
              "      border-color: transparent;\n",
              "      border-left-color: var(--fill-color);\n",
              "      border-top-color: var(--fill-color);\n",
              "    }\n",
              "    30% {\n",
              "      border-color: transparent;\n",
              "      border-left-color: var(--fill-color);\n",
              "      border-top-color: var(--fill-color);\n",
              "      border-right-color: var(--fill-color);\n",
              "    }\n",
              "    40% {\n",
              "      border-color: transparent;\n",
              "      border-right-color: var(--fill-color);\n",
              "      border-top-color: var(--fill-color);\n",
              "    }\n",
              "    60% {\n",
              "      border-color: transparent;\n",
              "      border-right-color: var(--fill-color);\n",
              "    }\n",
              "    80% {\n",
              "      border-color: transparent;\n",
              "      border-right-color: var(--fill-color);\n",
              "      border-bottom-color: var(--fill-color);\n",
              "    }\n",
              "    90% {\n",
              "      border-color: transparent;\n",
              "      border-bottom-color: var(--fill-color);\n",
              "    }\n",
              "  }\n",
              "</style>\n",
              "\n",
              "  <script>\n",
              "    async function quickchart(key) {\n",
              "      const quickchartButtonEl =\n",
              "        document.querySelector('#' + key + ' button');\n",
              "      quickchartButtonEl.disabled = true;  // To prevent multiple clicks.\n",
              "      quickchartButtonEl.classList.add('colab-df-spinner');\n",
              "      try {\n",
              "        const charts = await google.colab.kernel.invokeFunction(\n",
              "            'suggestCharts', [key], {});\n",
              "      } catch (error) {\n",
              "        console.error('Error during call to suggestCharts:', error);\n",
              "      }\n",
              "      quickchartButtonEl.classList.remove('colab-df-spinner');\n",
              "      quickchartButtonEl.classList.add('colab-df-quickchart-complete');\n",
              "    }\n",
              "    (() => {\n",
              "      let quickchartButtonEl =\n",
              "        document.querySelector('#df-2e8a691d-5814-4186-a0c1-50bb5e53770f button');\n",
              "      quickchartButtonEl.style.display =\n",
              "        google.colab.kernel.accessAllowed ? 'block' : 'none';\n",
              "    })();\n",
              "  </script>\n",
              "</div>\n",
              "\n",
              "    </div>\n",
              "  </div>\n"
            ],
            "application/vnd.google.colaboratory.intrinsic+json": {
              "type": "dataframe",
              "summary": "{\n  \"name\": \"df\",\n  \"rows\": 5,\n  \"fields\": [\n    {\n      \"column\": \"id\",\n      \"properties\": {\n        \"dtype\": \"number\",\n        \"std\": 326,\n        \"min\": 174,\n        \"max\": 948,\n        \"num_unique_values\": 5,\n        \"samples\": [\n          349,\n          174,\n          838\n        ],\n        \"semantic_type\": \"\",\n        \"description\": \"\"\n      }\n    },\n    {\n      \"column\": \"first_name\",\n      \"properties\": {\n        \"dtype\": \"string\",\n        \"num_unique_values\": 5,\n        \"samples\": [\n          \"Samantha\",\n          \"Sloane\",\n          \"Brigitte\"\n        ],\n        \"semantic_type\": \"\",\n        \"description\": \"\"\n      }\n    },\n    {\n      \"column\": \"last_name\",\n      \"properties\": {\n        \"dtype\": \"string\",\n        \"num_unique_values\": 5,\n        \"samples\": [\n          \"Rowbotham\",\n          \"Desquesnes\",\n          \"Westmoreland\"\n        ],\n        \"semantic_type\": \"\",\n        \"description\": \"\"\n      }\n    },\n    {\n      \"column\": \"email\",\n      \"properties\": {\n        \"dtype\": \"string\",\n        \"num_unique_values\": 5,\n        \"samples\": [\n          \"srowbotham9o@umich.edu\",\n          \"sdesquesnes4t@dedecms.com\",\n          \"bwestmorelandn9@gravatar.com\"\n        ],\n        \"semantic_type\": \"\",\n        \"description\": \"\"\n      }\n    },\n    {\n      \"column\": \"gender\",\n      \"properties\": {\n        \"dtype\": \"string\",\n        \"num_unique_values\": 4,\n        \"samples\": [\n          \"Female\",\n          \"Male\",\n          \"Non-binary\"\n        ],\n        \"semantic_type\": \"\",\n        \"description\": \"\"\n      }\n    },\n    {\n      \"column\": \"ip_address\",\n      \"properties\": {\n        \"dtype\": \"string\",\n        \"num_unique_values\": 5,\n        \"samples\": [\n          \"54.71.88.145\",\n          \"0.146.148.140\",\n          \"121.16.145.31\"\n        ],\n        \"semantic_type\": \"\",\n        \"description\": \"\"\n      }\n    },\n    {\n      \"column\": \"cgpa\",\n      \"properties\": {\n        \"dtype\": \"number\",\n        \"std\": 0.6009090336038115,\n        \"min\": 2.02,\n        \"max\": 3.39,\n        \"num_unique_values\": 4,\n        \"samples\": [\n          3.39,\n          3.17,\n          2.02\n        ],\n        \"semantic_type\": \"\",\n        \"description\": \"\"\n      }\n    },\n    {\n      \"column\": \"passing_year\",\n      \"properties\": {\n        \"dtype\": \"number\",\n        \"std\": 5.029910535983717,\n        \"min\": 2012.0,\n        \"max\": 2025.0,\n        \"num_unique_values\": 5,\n        \"samples\": [\n          2018.0,\n          2019.0,\n          2014.0\n        ],\n        \"semantic_type\": \"\",\n        \"description\": \"\"\n      }\n    },\n    {\n      \"column\": \"department\",\n      \"properties\": {\n        \"dtype\": \"string\",\n        \"num_unique_values\": 5,\n        \"samples\": [\n          \"Arts\",\n          \"Business\",\n          \"Medicine\"\n        ],\n        \"semantic_type\": \"\",\n        \"description\": \"\"\n      }\n    },\n    {\n      \"column\": \"attendance\",\n      \"properties\": {\n        \"dtype\": \"number\",\n        \"std\": 29.73354132961629,\n        \"min\": 14.74,\n        \"max\": 94.84,\n        \"num_unique_values\": 5,\n        \"samples\": [\n          55.14,\n          14.74,\n          50.06\n        ],\n        \"semantic_type\": \"\",\n        \"description\": \"\"\n      }\n    },\n    {\n      \"column\": \"home_district\",\n      \"properties\": {\n        \"dtype\": \"string\",\n        \"num_unique_values\": 3,\n        \"samples\": [\n          \"Los Angeles\",\n          \"Houston\",\n          \"New York\"\n        ],\n        \"semantic_type\": \"\",\n        \"description\": \"\"\n      }\n    },\n    {\n      \"column\": \"abroad_study\",\n      \"properties\": {\n        \"dtype\": \"boolean\",\n        \"num_unique_values\": 2,\n        \"samples\": [\n          true,\n          false\n        ],\n        \"semantic_type\": \"\",\n        \"description\": \"\"\n      }\n    },\n    {\n      \"column\": \"student_id\",\n      \"properties\": {\n        \"dtype\": \"number\",\n        \"std\": 326,\n        \"min\": 174,\n        \"max\": 948,\n        \"num_unique_values\": 5,\n        \"samples\": [\n          349,\n          174\n        ],\n        \"semantic_type\": \"\",\n        \"description\": \"\"\n      }\n    },\n    {\n      \"column\": \"graduation_date\",\n      \"properties\": {\n        \"dtype\": \"number\",\n        \"std\": 2,\n        \"min\": 2010,\n        \"max\": 2018,\n        \"num_unique_values\": 4,\n        \"samples\": [\n          2014,\n          2018\n        ],\n        \"semantic_type\": \"\",\n        \"description\": \"\"\n      }\n    },\n    {\n      \"column\": \"study_abroad_country\",\n      \"properties\": {\n        \"dtype\": \"string\",\n        \"num_unique_values\": 5,\n        \"samples\": [\n          \"Brazil\",\n          \"Poland\"\n        ],\n        \"semantic_type\": \"\",\n        \"description\": \"\"\n      }\n    },\n    {\n      \"column\": \"study_abroad_city\",\n      \"properties\": {\n        \"dtype\": \"string\",\n        \"num_unique_values\": 5,\n        \"samples\": [\n          \"Iturama\",\n          \"Olesno\"\n        ],\n        \"semantic_type\": \"\",\n        \"description\": \"\"\n      }\n    },\n    {\n      \"column\": \"hsc_gpa\",\n      \"properties\": {\n        \"dtype\": \"number\",\n        \"std\": 1,\n        \"min\": 1,\n        \"max\": 4,\n        \"num_unique_values\": 4,\n        \"samples\": [\n          2,\n          3\n        ],\n        \"semantic_type\": \"\",\n        \"description\": \"\"\n      }\n    },\n    {\n      \"column\": \"ssc_gpa\",\n      \"properties\": {\n        \"dtype\": \"number\",\n        \"std\": 1,\n        \"min\": 1,\n        \"max\": 4,\n        \"num_unique_values\": 4,\n        \"samples\": [\n          3,\n          4\n        ],\n        \"semantic_type\": \"\",\n        \"description\": \"\"\n      }\n    }\n  ]\n}"
            }
          },
          "metadata": {},
          "execution_count": 7
        }
      ]
    },
    {
      "cell_type": "markdown",
      "source": [
        "**Question 1**"
      ],
      "metadata": {
        "id": "a1D0sOGmLpxG"
      }
    },
    {
      "cell_type": "code",
      "source": [
        "import pandas as pd\n",
        "import matplotlib.pyplot as plt\n",
        "\n",
        "df_male = df[df[\"gender\"] == \"Male\"]\n",
        "df_female = df[df[\"gender\"] == \"Female\"]\n",
        "#rint(df_male.value_counts())\n",
        "malecount = df_male.value_counts()\n",
        "femalecount = df_female.value_counts()\n",
        "print(f\"Total number of male students: \",len(malecount))\n",
        "print(f\"Total number of female students: \", len(femalecount))"
      ],
      "metadata": {
        "id": "FC_DHrV_4LoN",
        "colab": {
          "base_uri": "https://localhost:8080/"
        },
        "outputId": "c21af4f4-d000-466a-f6ab-c09f639270a1"
      },
      "execution_count": 19,
      "outputs": [
        {
          "output_type": "stream",
          "name": "stdout",
          "text": [
            "Total number of male students:  384\n",
            "Total number of female students:  339\n"
          ]
        }
      ]
    },
    {
      "cell_type": "markdown",
      "source": [
        "**Question 2**"
      ],
      "metadata": {
        "id": "c8_6vvp5M4CI"
      }
    },
    {
      "cell_type": "code",
      "source": [
        "df = pd.read_csv(\"student_data.csv\")\n",
        "gpa = df[(df[\"hsc_gpa\"]> 4)]\n",
        "print(gpa.sample(1))"
      ],
      "metadata": {
        "colab": {
          "base_uri": "https://localhost:8080/"
        },
        "id": "kEAkM4UMKI8P",
        "outputId": "e8ba79ee-f1a0-439b-e002-7c83d6e65b09"
      },
      "execution_count": 25,
      "outputs": [
        {
          "output_type": "stream",
          "name": "stdout",
          "text": [
            "      id first_name last_name                email gender      ip_address  \\\n",
            "843  844     Oliver    Milsap  omilsapnf@fotki.com   Male  180.144.67.192   \n",
            "\n",
            "     cgpa  passing_year department  attendance home_district  abroad_study  \\\n",
            "843  1.79        2016.0   Medicine       64.95         Miami          True   \n",
            "\n",
            "     student_id  graduation_date study_abroad_country study_abroad_city  \\\n",
            "843         844             2016               Brazil  Pontes e Lacerda   \n",
            "\n",
            "     hsc_gpa  ssc_gpa  \n",
            "843        5        5  \n"
          ]
        }
      ]
    },
    {
      "cell_type": "markdown",
      "source": [
        "**Question 3**"
      ],
      "metadata": {
        "id": "qKEZPG99ORY1"
      }
    },
    {
      "cell_type": "code",
      "source": [
        "cgpa_median = df[\"cgpa\"].median()\n",
        "\n",
        "print(\"Median CGPA: \",cgpa_median)"
      ],
      "metadata": {
        "colab": {
          "base_uri": "https://localhost:8080/"
        },
        "id": "4owlmaC-Mjwe",
        "outputId": "84e851bf-ee40-452d-f628-26d3aff80fb8"
      },
      "execution_count": 31,
      "outputs": [
        {
          "output_type": "stream",
          "name": "stdout",
          "text": [
            "Median CGPA:  1.96\n"
          ]
        }
      ]
    },
    {
      "cell_type": "markdown",
      "source": [
        "**Question 4**"
      ],
      "metadata": {
        "id": "0Z_iy539Qxvk"
      }
    },
    {
      "cell_type": "code",
      "source": [
        "studying_abroad = df[(df)]"
      ],
      "metadata": {
        "id": "18XhSvHrP39N"
      },
      "execution_count": null,
      "outputs": []
    }
  ]
}